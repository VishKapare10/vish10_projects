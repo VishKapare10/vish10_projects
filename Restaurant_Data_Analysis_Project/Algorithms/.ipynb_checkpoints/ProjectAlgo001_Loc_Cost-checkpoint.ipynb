{
 "cells": [
  {
   "cell_type": "markdown",
   "metadata": {},
   "source": [
    "## Predicting Event Success"
   ]
  },
  {
   "cell_type": "markdown",
   "metadata": {},
   "source": [
    "### Importing Files"
   ]
  },
  {
   "cell_type": "code",
   "execution_count": 351,
   "metadata": {},
   "outputs": [],
   "source": [
    "import numpy as np\n",
    "import pandas as pd\n",
    "import matplotlib.pyplot as plt\n",
    "from sklearn.preprocessing import LabelEncoder, OneHotEncoder\n",
    "from matplotlib import rcParams\n",
    "import seaborn as sns\n",
    "import sys"
   ]
  },
  {
   "cell_type": "markdown",
   "metadata": {},
   "source": [
    "### Reading Files"
   ]
  },
  {
   "cell_type": "code",
   "execution_count": 352,
   "metadata": {
    "scrolled": true
   },
   "outputs": [
    {
     "data": {
      "text/html": [
       "<div>\n",
       "<style scoped>\n",
       "    .dataframe tbody tr th:only-of-type {\n",
       "        vertical-align: middle;\n",
       "    }\n",
       "\n",
       "    .dataframe tbody tr th {\n",
       "        vertical-align: top;\n",
       "    }\n",
       "\n",
       "    .dataframe thead th {\n",
       "        text-align: right;\n",
       "    }\n",
       "</style>\n",
       "<table border=\"1\" class=\"dataframe\">\n",
       "  <thead>\n",
       "    <tr style=\"text-align: right;\">\n",
       "      <th></th>\n",
       "      <th>restaurant.R.has_menu_status.delivery</th>\n",
       "      <th>restaurant.R.has_menu_status.takeaway</th>\n",
       "      <th>restaurant.R.res_id</th>\n",
       "      <th>restaurant.all_reviews.reviews</th>\n",
       "      <th>restaurant.all_reviews_count</th>\n",
       "      <th>restaurant.apikey</th>\n",
       "      <th>restaurant.average_cost_for_two</th>\n",
       "      <th>restaurant.book_again_url</th>\n",
       "      <th>restaurant.book_form_web_view_url</th>\n",
       "      <th>restaurant.book_url</th>\n",
       "      <th>...</th>\n",
       "      <th>restaurant.user_rating.custom_rating_text</th>\n",
       "      <th>restaurant.user_rating.custom_rating_text_background</th>\n",
       "      <th>restaurant.user_rating.rating_color</th>\n",
       "      <th>restaurant.user_rating.rating_obj.bg_color.tint</th>\n",
       "      <th>restaurant.user_rating.rating_obj.bg_color.type</th>\n",
       "      <th>restaurant.user_rating.rating_obj.title.text</th>\n",
       "      <th>restaurant.user_rating.rating_text</th>\n",
       "      <th>restaurant.user_rating.rating_tool_tip</th>\n",
       "      <th>restaurant.user_rating.votes</th>\n",
       "      <th>restaurant.zomato_events</th>\n",
       "    </tr>\n",
       "  </thead>\n",
       "  <tbody>\n",
       "    <tr>\n",
       "      <th>0</th>\n",
       "      <td>1</td>\n",
       "      <td>-1</td>\n",
       "      <td>3400279</td>\n",
       "      <td>[{'review': []}, {'review': []}, {'review': []...</td>\n",
       "      <td>82</td>\n",
       "      <td>e9523f398c0a4ea3afa12fdd4242bfb2</td>\n",
       "      <td>500</td>\n",
       "      <td>NaN</td>\n",
       "      <td>NaN</td>\n",
       "      <td>NaN</td>\n",
       "      <td>...</td>\n",
       "      <td>NaN</td>\n",
       "      <td>NaN</td>\n",
       "      <td>5BA829</td>\n",
       "      <td>700</td>\n",
       "      <td>lime</td>\n",
       "      <td>4.3</td>\n",
       "      <td>Very Good</td>\n",
       "      <td>NaN</td>\n",
       "      <td>1172</td>\n",
       "      <td>NaN</td>\n",
       "    </tr>\n",
       "    <tr>\n",
       "      <th>1</th>\n",
       "      <td>1</td>\n",
       "      <td>-1</td>\n",
       "      <td>3400290</td>\n",
       "      <td>[{'review': []}, {'review': []}, {'review': []...</td>\n",
       "      <td>168</td>\n",
       "      <td>e9523f398c0a4ea3afa12fdd4242bfb2</td>\n",
       "      <td>300</td>\n",
       "      <td>NaN</td>\n",
       "      <td>NaN</td>\n",
       "      <td>NaN</td>\n",
       "      <td>...</td>\n",
       "      <td>NaN</td>\n",
       "      <td>NaN</td>\n",
       "      <td>5BA829</td>\n",
       "      <td>700</td>\n",
       "      <td>lime</td>\n",
       "      <td>4.3</td>\n",
       "      <td>Very Good</td>\n",
       "      <td>NaN</td>\n",
       "      <td>917</td>\n",
       "      <td>NaN</td>\n",
       "    </tr>\n",
       "    <tr>\n",
       "      <th>2</th>\n",
       "      <td>1</td>\n",
       "      <td>-1</td>\n",
       "      <td>3400005</td>\n",
       "      <td>[{'review': []}, {'review': []}, {'review': []...</td>\n",
       "      <td>541</td>\n",
       "      <td>e9523f398c0a4ea3afa12fdd4242bfb2</td>\n",
       "      <td>600</td>\n",
       "      <td>NaN</td>\n",
       "      <td>NaN</td>\n",
       "      <td>NaN</td>\n",
       "      <td>...</td>\n",
       "      <td>NaN</td>\n",
       "      <td>NaN</td>\n",
       "      <td>5BA829</td>\n",
       "      <td>700</td>\n",
       "      <td>lime</td>\n",
       "      <td>4.4</td>\n",
       "      <td>Very Good</td>\n",
       "      <td>NaN</td>\n",
       "      <td>1567</td>\n",
       "      <td>NaN</td>\n",
       "    </tr>\n",
       "    <tr>\n",
       "      <th>3</th>\n",
       "      <td>1</td>\n",
       "      <td>-1</td>\n",
       "      <td>3400299</td>\n",
       "      <td>[{'review': []}, {'review': []}, {'review': []...</td>\n",
       "      <td>229</td>\n",
       "      <td>e9523f398c0a4ea3afa12fdd4242bfb2</td>\n",
       "      <td>700</td>\n",
       "      <td>NaN</td>\n",
       "      <td>NaN</td>\n",
       "      <td>NaN</td>\n",
       "      <td>...</td>\n",
       "      <td>NaN</td>\n",
       "      <td>NaN</td>\n",
       "      <td>5BA829</td>\n",
       "      <td>700</td>\n",
       "      <td>lime</td>\n",
       "      <td>4.4</td>\n",
       "      <td>Very Good</td>\n",
       "      <td>NaN</td>\n",
       "      <td>1018</td>\n",
       "      <td>NaN</td>\n",
       "    </tr>\n",
       "    <tr>\n",
       "      <th>4</th>\n",
       "      <td>1</td>\n",
       "      <td>-1</td>\n",
       "      <td>3401013</td>\n",
       "      <td>[{'review': []}, {'review': []}, {'review': []...</td>\n",
       "      <td>197</td>\n",
       "      <td>e9523f398c0a4ea3afa12fdd4242bfb2</td>\n",
       "      <td>300</td>\n",
       "      <td>NaN</td>\n",
       "      <td>NaN</td>\n",
       "      <td>NaN</td>\n",
       "      <td>...</td>\n",
       "      <td>NaN</td>\n",
       "      <td>NaN</td>\n",
       "      <td>5BA829</td>\n",
       "      <td>700</td>\n",
       "      <td>lime</td>\n",
       "      <td>4.1</td>\n",
       "      <td>Very Good</td>\n",
       "      <td>NaN</td>\n",
       "      <td>1015</td>\n",
       "      <td>NaN</td>\n",
       "    </tr>\n",
       "  </tbody>\n",
       "</table>\n",
       "<p>5 rows × 63 columns</p>\n",
       "</div>"
      ],
      "text/plain": [
       "   restaurant.R.has_menu_status.delivery  \\\n",
       "0                                      1   \n",
       "1                                      1   \n",
       "2                                      1   \n",
       "3                                      1   \n",
       "4                                      1   \n",
       "\n",
       "   restaurant.R.has_menu_status.takeaway  restaurant.R.res_id  \\\n",
       "0                                     -1              3400279   \n",
       "1                                     -1              3400290   \n",
       "2                                     -1              3400005   \n",
       "3                                     -1              3400299   \n",
       "4                                     -1              3401013   \n",
       "\n",
       "                      restaurant.all_reviews.reviews  \\\n",
       "0  [{'review': []}, {'review': []}, {'review': []...   \n",
       "1  [{'review': []}, {'review': []}, {'review': []...   \n",
       "2  [{'review': []}, {'review': []}, {'review': []...   \n",
       "3  [{'review': []}, {'review': []}, {'review': []...   \n",
       "4  [{'review': []}, {'review': []}, {'review': []...   \n",
       "\n",
       "   restaurant.all_reviews_count                 restaurant.apikey  \\\n",
       "0                            82  e9523f398c0a4ea3afa12fdd4242bfb2   \n",
       "1                           168  e9523f398c0a4ea3afa12fdd4242bfb2   \n",
       "2                           541  e9523f398c0a4ea3afa12fdd4242bfb2   \n",
       "3                           229  e9523f398c0a4ea3afa12fdd4242bfb2   \n",
       "4                           197  e9523f398c0a4ea3afa12fdd4242bfb2   \n",
       "\n",
       "   restaurant.average_cost_for_two  restaurant.book_again_url  \\\n",
       "0                              500                        NaN   \n",
       "1                              300                        NaN   \n",
       "2                              600                        NaN   \n",
       "3                              700                        NaN   \n",
       "4                              300                        NaN   \n",
       "\n",
       "   restaurant.book_form_web_view_url restaurant.book_url  ...  \\\n",
       "0                                NaN                 NaN  ...   \n",
       "1                                NaN                 NaN  ...   \n",
       "2                                NaN                 NaN  ...   \n",
       "3                                NaN                 NaN  ...   \n",
       "4                                NaN                 NaN  ...   \n",
       "\n",
       "  restaurant.user_rating.custom_rating_text  \\\n",
       "0                                       NaN   \n",
       "1                                       NaN   \n",
       "2                                       NaN   \n",
       "3                                       NaN   \n",
       "4                                       NaN   \n",
       "\n",
       "  restaurant.user_rating.custom_rating_text_background  \\\n",
       "0                                                NaN     \n",
       "1                                                NaN     \n",
       "2                                                NaN     \n",
       "3                                                NaN     \n",
       "4                                                NaN     \n",
       "\n",
       "  restaurant.user_rating.rating_color  \\\n",
       "0                              5BA829   \n",
       "1                              5BA829   \n",
       "2                              5BA829   \n",
       "3                              5BA829   \n",
       "4                              5BA829   \n",
       "\n",
       "  restaurant.user_rating.rating_obj.bg_color.tint  \\\n",
       "0                                             700   \n",
       "1                                             700   \n",
       "2                                             700   \n",
       "3                                             700   \n",
       "4                                             700   \n",
       "\n",
       "  restaurant.user_rating.rating_obj.bg_color.type  \\\n",
       "0                                            lime   \n",
       "1                                            lime   \n",
       "2                                            lime   \n",
       "3                                            lime   \n",
       "4                                            lime   \n",
       "\n",
       "  restaurant.user_rating.rating_obj.title.text  \\\n",
       "0                                          4.3   \n",
       "1                                          4.3   \n",
       "2                                          4.4   \n",
       "3                                          4.4   \n",
       "4                                          4.1   \n",
       "\n",
       "  restaurant.user_rating.rating_text  restaurant.user_rating.rating_tool_tip  \\\n",
       "0                          Very Good                                     NaN   \n",
       "1                          Very Good                                     NaN   \n",
       "2                          Very Good                                     NaN   \n",
       "3                          Very Good                                     NaN   \n",
       "4                          Very Good                                     NaN   \n",
       "\n",
       "   restaurant.user_rating.votes restaurant.zomato_events  \n",
       "0                          1172                      NaN  \n",
       "1                           917                      NaN  \n",
       "2                          1567                      NaN  \n",
       "3                          1018                      NaN  \n",
       "4                          1015                      NaN  \n",
       "\n",
       "[5 rows x 63 columns]"
      ]
     },
     "execution_count": 352,
     "metadata": {},
     "output_type": "execute_result"
    }
   ],
   "source": [
    "data=pd.read_csv('/home/student/Desktop/Practise_Folder/Project/Data/ZomatoRestuarantData.csv')\n",
    "data.head()"
   ]
  },
  {
   "cell_type": "markdown",
   "metadata": {},
   "source": [
    "### Selecting Relevant Columns"
   ]
  },
  {
   "cell_type": "code",
   "execution_count": 353,
   "metadata": {},
   "outputs": [
    {
     "data": {
      "text/plain": [
       "Index(['restaurant.average_cost_for_two', 'restaurant.location.locality',\n",
       "       'restaurant.cuisines', 'restaurant.user_rating.aggregate_rating'],\n",
       "      dtype='object')"
      ]
     },
     "execution_count": 353,
     "metadata": {},
     "output_type": "execute_result"
    }
   ],
   "source": [
    "data = data.loc[: , ['restaurant.average_cost_for_two', 'restaurant.location.locality','restaurant.cuisines', 'restaurant.user_rating.aggregate_rating']]\n",
    "data.columns"
   ]
  },
  {
   "cell_type": "markdown",
   "metadata": {},
   "source": [
    "### Removing N/A Values"
   ]
  },
  {
   "cell_type": "code",
   "execution_count": 354,
   "metadata": {},
   "outputs": [
    {
     "name": "stdout",
     "output_type": "stream",
     "text": [
      "<class 'pandas.core.frame.DataFrame'>\n",
      "Int64Index: 1235 entries, 0 to 1234\n",
      "Data columns (total 4 columns):\n",
      "restaurant.average_cost_for_two            1235 non-null int64\n",
      "restaurant.location.locality               1235 non-null object\n",
      "restaurant.cuisines                        1235 non-null object\n",
      "restaurant.user_rating.aggregate_rating    1235 non-null float64\n",
      "dtypes: float64(1), int64(1), object(2)\n",
      "memory usage: 48.2+ KB\n"
     ]
    }
   ],
   "source": [
    "data = data.dropna()\n",
    "data.info()"
   ]
  },
  {
   "cell_type": "markdown",
   "metadata": {},
   "source": [
    "### Standarization of Text Columns"
   ]
  },
  {
   "cell_type": "code",
   "execution_count": 355,
   "metadata": {},
   "outputs": [
    {
     "data": {
      "text/plain": [
       "Fast Food Pizza                      78\n",
       "Indian North                         67\n",
       "Chinese Indian North                 41\n",
       "Chinese Indian Indian North South    29\n",
       "Beverages                            25\n",
       "Name: restaurant.cuisines, dtype: int64"
      ]
     },
     "execution_count": 355,
     "metadata": {},
     "output_type": "execute_result"
    }
   ],
   "source": [
    "data['restaurant.cuisines'] = data['restaurant.cuisines'].str.replace(',' , '') \n",
    "data['restaurant.cuisines'] = data['restaurant.cuisines'].astype(str).apply(lambda x: ' '.join(sorted(x.split())))\n",
    "data['restaurant.cuisines'].value_counts().head()"
   ]
  },
  {
   "cell_type": "code",
   "execution_count": 356,
   "metadata": {},
   "outputs": [
    {
     "data": {
      "text/plain": [
       "Civil Lines    83\n",
       "35 Sector      36\n",
       "Patia          32\n",
       "CIDCO          31\n",
       "Peelamedu      27\n",
       "Name: restaurant.location.locality, dtype: int64"
      ]
     },
     "execution_count": 356,
     "metadata": {},
     "output_type": "execute_result"
    }
   ],
   "source": [
    "data['restaurant.location.locality'] = data['restaurant.location.locality'].str.replace(',' , '') \n",
    "data['restaurant.location.locality'] = data['restaurant.location.locality'].astype(str).apply(lambda x: ' '.join(sorted(x.split())))\n",
    "data['restaurant.location.locality'].value_counts().head()"
   ]
  },
  {
   "cell_type": "code",
   "execution_count": 357,
   "metadata": {},
   "outputs": [],
   "source": [
    "from sklearn.preprocessing import LabelEncoder\n",
    "T = LabelEncoder()                 \n",
    "data['restaurant.location.locality'] = T.fit_transform(data['restaurant.location.locality'])\n",
    "#data['restaurant.establishment'] = T.fit_transform(data['restaurant.establishment'])\n",
    "data['restaurant.cuisines'] = T.fit_transform(data['restaurant.cuisines'])"
   ]
  },
  {
   "cell_type": "markdown",
   "metadata": {},
   "source": [
    "### Spliting X and Y Variable "
   ]
  },
  {
   "cell_type": "code",
   "execution_count": 358,
   "metadata": {},
   "outputs": [
    {
     "data": {
      "text/plain": [
       "array([4.3, 4.3, 4.4, ..., 4.3, 3.4, 3.6])"
      ]
     },
     "execution_count": 358,
     "metadata": {},
     "output_type": "execute_result"
    }
   ],
   "source": [
    "X = data.loc[:, :].values\n",
    "Y =  data.iloc[:, -1].values\n",
    "Y"
   ]
  },
  {
   "cell_type": "code",
   "execution_count": 359,
   "metadata": {
    "scrolled": true
   },
   "outputs": [],
   "source": [
    "X = X[:, :-1]\n",
    "from sklearn.model_selection import train_test_split\n",
    "X_train, X_test, Y_train, Y_test = train_test_split(X, Y, test_size = 0.30, random_state = 0)"
   ]
  },
  {
   "cell_type": "markdown",
   "metadata": {},
   "source": [
    "### EDA"
   ]
  },
  {
   "cell_type": "code",
   "execution_count": 360,
   "metadata": {},
   "outputs": [],
   "source": [
    "X = X_train\n",
    "Y = Y_train\n",
    "\n",
    "from sklearn.preprocessing import StandardScaler\n",
    "sc = StandardScaler()\n",
    "X = sc.fit_transform(X)\n",
    "\n",
    "from sklearn.decomposition import KernelPCA\n",
    "kpca=KernelPCA(n_components= 1,kernel='rbf')\n",
    "X=kpca.fit_transform(X)"
   ]
  },
  {
   "cell_type": "code",
   "execution_count": 361,
   "metadata": {},
   "outputs": [
    {
     "data": {
      "text/plain": [
       "<matplotlib.collections.PathCollection at 0x7f9c7ccd17f0>"
      ]
     },
     "execution_count": 361,
     "metadata": {},
     "output_type": "execute_result"
    },
    {
     "data": {
      "image/png": "[encoded data removed]",
      "text/plain": [
       "<Figure size 432x288 with 1 Axes>"
      ]
     },
     "metadata": {
      "needs_background": "light"
     },
     "output_type": "display_data"
    }
   ],
   "source": [
    "import matplotlib.pyplot as plt\n",
    "plt.scatter(X, Y)"
   ]
  },
  {
   "cell_type": "markdown",
   "metadata": {},
   "source": [
    "### Model Measuring Parameters"
   ]
  },
  {
   "cell_type": "code",
   "execution_count": 362,
   "metadata": {},
   "outputs": [
    {
     "name": "stdout",
     "output_type": "stream",
     "text": [
      "                            OLS Regression Results                            \n",
      "==============================================================================\n",
      "Dep. Variable:                      y   R-squared:                       0.916\n",
      "Model:                            OLS   Adj. R-squared:                  0.916\n",
      "Method:                 Least Squares   F-statistic:                     3142.\n",
      "Date:                Mon, 27 Jan 2020   Prob (F-statistic):               0.00\n",
      "Time:                        10:49:27   Log-Likelihood:                -1385.0\n",
      "No. Observations:                 864   AIC:                             2776.\n",
      "Df Residuals:                     861   BIC:                             2790.\n",
      "Df Model:                           3                                         \n",
      "Covariance Type:            nonrobust                                         \n",
      "==============================================================================\n",
      "                 coef    std err          t      P>|t|      [0.025      0.975]\n",
      "------------------------------------------------------------------------------\n",
      "x1             0.0018   7.89e-05     22.531      0.000       0.002       0.002\n",
      "x2             0.0081      0.000     16.467      0.000       0.007       0.009\n",
      "x3             0.0063      0.000     28.880      0.000       0.006       0.007\n",
      "==============================================================================\n",
      "Omnibus:                      230.186   Durbin-Watson:                   1.866\n",
      "Prob(Omnibus):                  0.000   Jarque-Bera (JB):             2227.301\n",
      "Skew:                          -0.918   Prob(JB):                         0.00\n",
      "Kurtosis:                      10.648   Cond. No.                         10.0\n",
      "==============================================================================\n",
      "\n",
      "Warnings:\n",
      "[1] Standard Errors assume that the covariance matrix of the errors is correctly specified.\n"
     ]
    }
   ],
   "source": [
    "#Model Measuring Parameters\n",
    "from sklearn.metrics import mean_squared_error, mean_absolute_error, r2_score\n",
    "from scipy import stats\n",
    "import statsmodels.api as sm\n",
    "\n",
    "regressor_OLS = sm.OLS(endog = Y_train, exog = X_train)\n",
    "r_data = regressor_OLS.fit()\n",
    "print(r_data.summary())"
   ]
  },
  {
   "cell_type": "markdown",
   "metadata": {},
   "source": [
    "### Model01 - Linear Regression"
   ]
  },
  {
   "cell_type": "code",
   "execution_count": 363,
   "metadata": {},
   "outputs": [
    {
     "data": {
      "text/plain": [
       "LinearRegression(copy_X=True, fit_intercept=True, n_jobs=None,\n",
       "         normalize=False)"
      ]
     },
     "execution_count": 363,
     "metadata": {},
     "output_type": "execute_result"
    }
   ],
   "source": [
    "from sklearn.linear_model import LinearRegression\n",
    "regressor = LinearRegression()\n",
    "regressor.fit(X_train, Y_train)"
   ]
  },
  {
   "cell_type": "code",
   "execution_count": 364,
   "metadata": {
    "scrolled": true
   },
   "outputs": [],
   "source": [
    "y_pred = regressor.predict(X_test)"
   ]
  },
  {
   "cell_type": "code",
   "execution_count": 365,
   "metadata": {},
   "outputs": [
    {
     "name": "stdout",
     "output_type": "stream",
     "text": [
      "Mean Squared:  0.324196823846342\n",
      "Mean Absolute Error:  0.24491460744482482\n"
     ]
    }
   ],
   "source": [
    "from sklearn.metrics import mean_squared_error, mean_absolute_error, accuracy_score\n",
    "print(\"Mean Squared: \", np.sqrt(mean_squared_error(Y_test, y_pred)))\n",
    "print(\"Mean Absolute Error: \", mean_absolute_error(Y_test, y_pred))"
   ]
  },
  {
   "cell_type": "markdown",
   "metadata": {},
   "source": [
    "   ### Model02 -Random Forest"
   ]
  },
  {
   "cell_type": "code",
   "execution_count": 366,
   "metadata": {},
   "outputs": [
    {
     "data": {
      "text/plain": [
       "RandomForestRegressor(bootstrap=True, criterion='mse', max_depth=None,\n",
       "           max_features='auto', max_leaf_nodes=None,\n",
       "           min_impurity_decrease=0.0, min_impurity_split=None,\n",
       "           min_samples_leaf=1, min_samples_split=2,\n",
       "           min_weight_fraction_leaf=0.0, n_estimators=5, n_jobs=None,\n",
       "           oob_score=False, random_state=0, verbose=0, warm_start=False)"
      ]
     },
     "execution_count": 366,
     "metadata": {},
     "output_type": "execute_result"
    }
   ],
   "source": [
    "from sklearn.ensemble import RandomForestRegressor\n",
    "regressor = RandomForestRegressor(n_estimators=5, random_state = 0)\n",
    "regressor.fit(X_train, Y_train)"
   ]
  },
  {
   "cell_type": "code",
   "execution_count": 367,
   "metadata": {},
   "outputs": [],
   "source": [
    "y_pred = regressor.predict(X_test)"
   ]
  },
  {
   "cell_type": "code",
   "execution_count": 368,
   "metadata": {},
   "outputs": [
    {
     "name": "stdout",
     "output_type": "stream",
     "text": [
      "Mean Squared:  0.28427609339273174\n",
      "Mean Absolute Error:  0.198188679245283\n"
     ]
    }
   ],
   "source": [
    "from sklearn.metrics import mean_squared_error, mean_absolute_error, accuracy_score\n",
    "print(\"Mean Squared: \", np.sqrt(mean_squared_error(Y_test, y_pred)))\n",
    "print(\"Mean Absolute Error: \", mean_absolute_error(Y_test, y_pred))"
   ]
  },
  {
   "cell_type": "markdown",
   "metadata": {},
   "source": [
    "### Model03 - SVR"
   ]
  },
  {
   "cell_type": "code",
   "execution_count": 369,
   "metadata": {},
   "outputs": [
    {
     "name": "stderr",
     "output_type": "stream",
     "text": [
      "/home/student/anaconda3/lib/python3.7/site-packages/sklearn/svm/base.py:196: FutureWarning: The default value of gamma will change from 'auto' to 'scale' in version 0.22 to account better for unscaled features. Set gamma explicitly to 'auto' or 'scale' to avoid this warning.\n",
      "  \"avoid this warning.\", FutureWarning)\n"
     ]
    },
    {
     "data": {
      "text/plain": [
       "SVR(C=1.0, cache_size=200, coef0=0.0, degree=3, epsilon=0.1,\n",
       "  gamma='auto_deprecated', kernel='rbf', max_iter=-1, shrinking=True,\n",
       "  tol=0.001, verbose=False)"
      ]
     },
     "execution_count": 369,
     "metadata": {},
     "output_type": "execute_result"
    }
   ],
   "source": [
    "#Fitting Model\n",
    "from sklearn.svm import SVR\n",
    "regressor = SVR()\n",
    "regressor.fit(X_train, Y_train)"
   ]
  },
  {
   "cell_type": "code",
   "execution_count": 370,
   "metadata": {
    "scrolled": true
   },
   "outputs": [],
   "source": [
    "y_pred = regressor.predict(X_test)"
   ]
  },
  {
   "cell_type": "code",
   "execution_count": 371,
   "metadata": {
    "scrolled": true
   },
   "outputs": [
    {
     "name": "stdout",
     "output_type": "stream",
     "text": [
      "Mean Squared:  0.317688572937199\n",
      "Mean Absolute Error:  0.2279146153584675\n"
     ]
    }
   ],
   "source": [
    "from sklearn.metrics import mean_squared_error, mean_absolute_error, accuracy_score\n",
    "print(\"Mean Squared: \", np.sqrt(mean_squared_error(Y_test, y_pred)))\n",
    "print(\"Mean Absolute Error: \", mean_absolute_error(Y_test, y_pred))\n"
   ]
  }
 ],
 "metadata": {
  "kernelspec": {
   "display_name": "Python 3",
   "language": "python",
   "name": "python3"
  },
  "language_info": {
   "codemirror_mode": {
    "name": "ipython",
    "version": 3
   },
   "file_extension": ".py",
   "mimetype": "text/x-python",
   "name": "python",
   "nbconvert_exporter": "python",
   "pygments_lexer": "ipython3",
   "version": "3.7.3"
  }
 },
 "nbformat": 4,
 "nbformat_minor": 2
}
